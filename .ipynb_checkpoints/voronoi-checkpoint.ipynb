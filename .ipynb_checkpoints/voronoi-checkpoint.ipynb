{
 "cells": [
  {
   "cell_type": "code",
   "execution_count": 200,
   "metadata": {},
   "outputs": [],
   "source": [
    "import os\n",
    "import pickle\n",
    "import cv2\n",
    "import numpy as np\n",
    "import math\n",
    "import time\n",
    "import sys \n",
    "import heapq\n",
    "\n",
    "%matplotlib inline\n",
    "import matplotlib.pyplot as plt\n",
    "import ipywidgets.widgets as widgets\n",
    "from IPython.display import display\n",
    "\n",
    "import shapely.geometry\n",
    "import shapely.ops"
   ]
  },
  {
   "cell_type": "markdown",
   "metadata": {},
   "source": [
    "### Dijkstra code - for computing shortest path\n",
    "\n",
    "https://benalexkeen.com/implementing-djikstras-shortest-path-algorithm-with-python/"
   ]
  },
  {
   "cell_type": "code",
   "execution_count": 210,
   "metadata": {},
   "outputs": [],
   "source": [
    "from collections import defaultdict\n",
    "\n",
    "class Graph():\n",
    "    def __init__(self):\n",
    "        \"\"\"\n",
    "        self.edges is a dict of all possible next nodes\n",
    "        e.g. {'X': ['A', 'B', 'C', 'E'], ...}\n",
    "        self.weights has all the weights between two nodes,\n",
    "        with the two nodes as a tuple as the key\n",
    "        e.g. {('X', 'A'): 7, ('X', 'B'): 2, ...}\n",
    "        \"\"\"\n",
    "        self.edges = defaultdict(list)\n",
    "        self.weights = {}\n",
    "    \n",
    "    def add_edge(self, from_node, to_node, weight):\n",
    "        # Note: assumes edges are bi-directional\n",
    "        self.edges[from_node].append(to_node)\n",
    "        self.edges[to_node].append(from_node)\n",
    "        self.weights[(from_node, to_node)] = weight\n",
    "        self.weights[(to_node, from_node)] = weight\n",
    "\n",
    "def dijsktra(graph, initial, end):\n",
    "    # shortest paths is a dict of nodes\n",
    "    # whose value is a tuple of (previous node, weight)\n",
    "    shortest_paths = {initial: (None, 0)}\n",
    "    current_node = initial\n",
    "    visited = set()\n",
    "    \n",
    "    while current_node != end:\n",
    "        visited.add(current_node)\n",
    "        destinations = graph.edges[current_node]\n",
    "        weight_to_current_node = shortest_paths[current_node][1]\n",
    "\n",
    "        for next_node in destinations:\n",
    "            weight = graph.weights[(current_node, next_node)] + weight_to_current_node\n",
    "            if next_node not in shortest_paths:\n",
    "                shortest_paths[next_node] = (current_node, weight)\n",
    "            else:\n",
    "                current_shortest_weight = shortest_paths[next_node][1]\n",
    "                if current_shortest_weight > weight:\n",
    "                    shortest_paths[next_node] = (current_node, weight)\n",
    "        \n",
    "        next_destinations = {node: shortest_paths[node] for node in shortest_paths if node not in visited}\n",
    "        if not next_destinations:\n",
    "            return \"Route Not Possible\"\n",
    "        # next node is the destination with the lowest weight\n",
    "        current_node = min(next_destinations, key=lambda k: next_destinations[k][1])\n",
    "    \n",
    "    # Work back through destinations in shortest path\n",
    "    path = []\n",
    "    while current_node is not None:\n",
    "        path.append(current_node)\n",
    "        next_node = shortest_paths[current_node][0]\n",
    "        current_node = next_node\n",
    "    # Reverse path\n",
    "    path = path[::-1]\n",
    "    return path"
   ]
  },
  {
   "cell_type": "code",
   "execution_count": 212,
   "metadata": {},
   "outputs": [
    {
     "data": {
      "text/plain": [
       "['X', 'B', 'H', 'G', 'Y']"
      ]
     },
     "execution_count": 212,
     "metadata": {},
     "output_type": "execute_result"
    }
   ],
   "source": [
    "graph = Graph()\n",
    "\n",
    "edges = [\n",
    "    ('X', 'A', 7),\n",
    "    ('X', 'B', 2),\n",
    "    ('X', 'C', 3),\n",
    "    ('X', 'E', 4),\n",
    "    ('A', 'B', 3),\n",
    "    ('A', 'D', 4),\n",
    "    ('B', 'D', 4),\n",
    "    ('B', 'H', 5),\n",
    "    ('C', 'L', 2),\n",
    "    ('D', 'F', 1),\n",
    "    ('F', 'H', 3),\n",
    "    ('G', 'H', 2),\n",
    "    ('G', 'Y', 2),\n",
    "    ('I', 'J', 6),\n",
    "    ('I', 'K', 4),\n",
    "    ('I', 'L', 4),\n",
    "    ('J', 'L', 1),\n",
    "    ('K', 'Y', 5),\n",
    "]\n",
    "\n",
    "for edge in edges:\n",
    "    graph.add_edge(*edge)\n",
    "    \n",
    "dijsktra(graph, 'X', 'Y')"
   ]
  },
  {
   "cell_type": "markdown",
   "metadata": {},
   "source": [
    "## Landmarks and Central Barrier"
   ]
  },
  {
   "cell_type": "code",
   "execution_count": 248,
   "metadata": {},
   "outputs": [],
   "source": [
    "# Landmarks\n",
    "landmarks = [\n",
    "    {\n",
    "    \"label\": 19,\n",
    "    \"obj_name\": 'horse',\n",
    "    \"width\": 0.394,\n",
    "    \"observed\": False,\n",
    "    \"actual_x\": 1.50,\n",
    "    \"actual_y\": 1.50,\n",
    "    \"Mu\": [],\n",
    "    \"blocked\": [[1.3,1.56],[1.7,1.44]],    \n",
    "    \"barrier\": np.array([[1.3,1.44],\n",
    "                    [1.3,1.56],\n",
    "                    [1.5,1.56],\n",
    "                    [1.7,1.56],\n",
    "                    [1.7,1.44],\n",
    "                    [1.5,1.44]\n",
    "                   ])\n",
    "    },\n",
    "    {\n",
    "    \"label\": 44,\n",
    "    \"obj_name\": 'bottle',\n",
    "    \"width\": 0.10,\n",
    "    \"observed\": False,\n",
    "    \"actual_x\": 0.75,\n",
    "    \"actual_y\": 1.50,\n",
    "    \"Mu\": [],\n",
    "    \"blocked\": [[0.7,1.55],[0.8,1.45]],    \n",
    "    \"barrier\": np.array([[0.8,1.55],\n",
    "                    [0.8,1.45],\n",
    "                    [0.7,1.45],\n",
    "                    [0.7,1.55]\n",
    "                   ])\n",
    "    },\n",
    "    {\n",
    "    \"label\": 63,\n",
    "    \"obj_name\": 'couch',\n",
    "    \"width\": 1.68,\n",
    "    \"observed\": False,\n",
    "    \"actual_x\": -0.50,\n",
    "    \"actual_y\": 1.21,\n",
    "    \"Mu\": [],\n",
    "    \"blocked\": [[-1.45,2.18],[-0.25,0.5]],    \n",
    "    \"barrier\": np.array([[-1.45,2.18],\n",
    "                    [-0.25,2.18],\n",
    "                    [-0.25,1.8],                         \n",
    "                    [-0.25,1.4], \n",
    "                    [-0.25,1.0],\n",
    "                    [-0.25,0.5],\n",
    "                    [-1.45,0.5],\n",
    "                    [-1.45,1.34]\n",
    "                   ])\n",
    "    },\n",
    "    {\n",
    "    \"label\": 72,\n",
    "    \"obj_name\": 'TV',\n",
    "    \"width\": 1.00,\n",
    "    \"observed\": False,\n",
    "    \"actual_x\": 2.0,\n",
    "    \"actual_y\": 0.9,\n",
    "    \"Mu\": [],\n",
    "    \"blocked\": [[1.9,1.5],[2.5,0.25]],    \n",
    "    \"barrier\": np.array([[1.9,1.5],\n",
    "                    [2.5,1.5],\n",
    "                    [2.5,0.9],\n",
    "                    [2.5,0.25],\n",
    "                    [1.9,0.25],\n",
    "                    [1.9,0.9]\n",
    "                   ])\n",
    "    },\n",
    "    {\n",
    "    \"label\": 64,\n",
    "    \"obj_name\": 'potted plant',\n",
    "    \"width\": 0.55,\n",
    "    \"observed\": False,\n",
    "    \"actual_x\": 0.5,\n",
    "    \"actual_y\": -0.10,\n",
    "    \"Mu\": [],\n",
    "    \"blocked\": [[0.2,0.1],[0.8,-0.3]],    \n",
    "    \"barrier\": np.array([[0.2,0.1],\n",
    "                    [0.8,0.1],\n",
    "                    [0.8,-0.3],\n",
    "                    [0.2,-0.3]\n",
    "                   ])\n",
    "    }\n",
    "]\n",
    "\n",
    "# Central barrier - 0.5m x 0.5m\n",
    "barrier = np.array([[0.5,0.5],\n",
    "                    [0.5,0.75],\n",
    "                    [0.5,1.0],\n",
    "                    [0.75,1.0],\n",
    "                    [1.0,1.0],\n",
    "                    [1.0,0.75],\n",
    "                    [1.0,0.5],\n",
    "                    [0.75,0.5]\n",
    "                   ])\n",
    "\n",
    "blocked = [[0.5,1.0],[1.0,0.5]]"
   ]
  },
  {
   "cell_type": "markdown",
   "metadata": {},
   "source": [
    "### Plot Map"
   ]
  },
  {
   "cell_type": "code",
   "execution_count": 314,
   "metadata": {},
   "outputs": [
    {
     "data": {
      "image/png": "[encoded data removed]",
      "text/plain": [
       "<matplotlib.figure.Figure at 0x7f045a6aba58>"
      ]
     },
     "metadata": {},
     "output_type": "display_data"
    }
   ],
   "source": [
    "\"\"\" Update robot position on map \"\"\"\n",
    "plt.figure(figsize=(8,8))\n",
    "plt.xlim([-200,250])\n",
    "plt.ylim([-200,250])\n",
    "\n",
    "    \n",
    "\"\"\" Display landmark as green cross, uncorrected landmark as lime cross \"\"\"\n",
    "for i, landmark in enumerate(landmarks):\n",
    "    # Mark landmark's actual locations\n",
    "    landmark_x_actual = landmark[\"actual_x\"]*100\n",
    "    landmark_y_actual = landmark[\"actual_y\"]*100\n",
    "    plt.plot(landmark_x_actual, landmark_y_actual, marker='*', markersize=8, color='red')\n",
    "    \n",
    "    if landmark[\"blocked\"] is not None:\n",
    "        plt.scatter(landmark[\"barrier\"][:,0]*100, landmark[\"barrier\"][:,1]*100, marker='*', color='blue') \n",
    "    \n",
    "\"\"\" Display central barrier \"\"\"\n",
    "plt.scatter(barrier[:,0]*100, barrier[:,1]*100, marker='*', color='blue')     \n",
    "\n",
    "plt.show()\n",
    "plt.close()"
   ]
  },
  {
   "cell_type": "markdown",
   "metadata": {},
   "source": [
    "## Voronoi Diagram --> Legal Paths"
   ]
  },
  {
   "cell_type": "code",
   "execution_count": 315,
   "metadata": {},
   "outputs": [
    {
     "data": {
      "image/png": "[encoded data removed]",
      "text/plain": [
       "<matplotlib.figure.Figure at 0x7f045ab606d8>"
      ]
     },
     "execution_count": 315,
     "metadata": {},
     "output_type": "execute_result"
    },
    {
     "data": {
      "image/png": "[encoded data removed]",
      "text/plain": [
       "<matplotlib.figure.Figure at 0x7f045ab606d8>"
      ]
     },
     "metadata": {},
     "output_type": "display_data"
    }
   ],
   "source": [
    "from scipy.spatial import Voronoi, voronoi_plot_2d\n",
    "\n",
    "num_pt = 0\n",
    "for landmark in landmarks:\n",
    "        landmark_barrier = landmark[\"barrier\"]\n",
    "        num, _ = landmark_barrier.shape\n",
    "        num_pt += num\n",
    "        \n",
    "num, _ = barrier.shape\n",
    "num_pt += num\n",
    "points = np.zeros((num_pt,2))\n",
    "\n",
    "# create landmark points\n",
    "j = 0\n",
    "for landmark in landmarks:\n",
    "        landmark_barrier = landmark[\"barrier\"]\n",
    "        num, _ = landmark_barrier.shape\n",
    "        for i in range(num):\n",
    "            points[j,0] = landmark_barrier[i,0]\n",
    "            points[j,1] = landmark_barrier[i,1]\n",
    "            j += 1\n",
    "    \n",
    "# create barrier points\n",
    "num, _ = barrier.shape\n",
    "for i in range(num):\n",
    "    points[j,0] = barrier[i,0]\n",
    "    points[j,1] = barrier[i,1]    \n",
    "    j += 1\n",
    "    \n",
    "vor = Voronoi(points)\n",
    "voronoi_plot_2d(vor)"
   ]
  },
  {
   "cell_type": "code",
   "execution_count": 316,
   "metadata": {},
   "outputs": [
    {
     "name": "stdout",
     "output_type": "stream",
     "text": [
      "3 4 [0.30789474 1.99      ] [0.20526316 1.6       ] 0.4032781186690274\n",
      "7 16 [0.22105263 1.5       ] [0.22679641 1.39086826] 0.10928278398543254\n",
      "16 17 [0.22679641 1.39086826] [0.625      1.21388889] 0.4357611735325622\n",
      "17 18 [0.625      1.21388889] [0.75       1.22777778] 0.12576923802968634\n",
      "3 8 [0.30789474 1.99      ] [0.75       2.65666667] 0.7999384402292186\n",
      "4 7 [0.20526316 1.6       ] [0.22105263 1.5       ] 0.10123886348248064\n",
      "20 23 [0.875  0.3125] [0.625   0.28125] 0.25194555463432966\n",
      "20 22 [0.875  0.3125] [1.36463415 0.06768293] 0.547427617662296\n",
      "21 22 [ 1.3875 -0.1   ] [1.36463415 0.06768293] 0.16923478133517178\n",
      "23 24 [0.625   0.28125] [0.5    0.1875] 0.15625\n",
      "10 11 [1.48333333 0.625     ] [1.50555556 0.575     ] 0.054715876676645035\n",
      "11 22 [1.50555556 0.575     ] [1.36463415 0.06768293] 0.5265258363132839\n",
      "1 21 [ 2.2   -1.725] [ 1.3875 -0.1   ] 1.816805231718579\n",
      "13 14 [-0.38055556 -0.1       ] [0.125   0.46875] 0.7609618796320131\n",
      "14 24 [0.125   0.46875] [0.5    0.1875] 0.46875\n",
      "0 13 [-0.85      -0.3640625] [-0.38055556 -0.1       ] 0.5386159024072751\n",
      "16 26 [0.22679641 1.39086826] [0.125 1.2  ] 0.21631736526946105\n",
      "8 9 [0.75       2.65666667] [1.019 3.105] 0.5228420199044619\n",
      "9 30 [1.019 3.105] [1.0511 1.5   ] 1.605320967906418\n",
      "31 32 [1.44166667 0.875     ] [1.45421525 0.98793722] 0.11363222456601439\n",
      "32 33 [1.45421525 0.98793722] [1.4        1.04954545] 0.08206623888570773\n",
      "33 35 [1.4        1.04954545] [1.04690583 1.29029148] 0.4273571595969724\n",
      "35 36 [1.04690583 1.29029148] [0.875      1.21388889] 0.18811956344387337\n",
      "18 36 [0.75       1.22777778] [0.875      1.21388889] 0.12576923802968634\n",
      "30 35 [1.0511 1.5   ] [1.04690583 1.29029148] 0.20975045769007633\n",
      "9 37 [1.019 3.105] [1.4    4.0575] 1.0258738957591227\n",
      "40 41 [0.125 0.625] [0.08333333 0.75      ] 0.13176156917368245\n",
      "41 42 [0.08333333 0.75      ] [0.125 0.875] 0.13176156917368245\n",
      "14 40 [0.125   0.46875] [0.125 0.625] 0.15625\n",
      "26 42 [0.125 1.2  ] [0.125 0.875] 0.32499999999999996\n",
      "10 31 [1.48333333 0.625     ] [1.44166667 0.875     ] 0.25344843876242584\n",
      "32 47 [1.45421525 0.98793722] [1.6        1.09592593] 0.181424240328695\n",
      "46 47 [1.881 1.2  ] [1.6        1.09592593] 0.29965382175833466\n",
      "48 49 [1.791 1.5  ] [2.2        2.86333333] 1.4233617873814708\n",
      "49 50 [2.2        2.86333333] [2.55784433 7.63459103] 4.784658040150582\n",
      "50 51 [2.55784433 7.63459103] [1.6        4.62201613] 3.161182260351889\n",
      "46 48 [1.881 1.2  ] [1.791 1.5  ] 0.31320919526731655\n",
      "37 51 [1.4    4.0575] [1.6        4.62201613] 0.5988977040677022\n"
     ]
    },
    {
     "data": {
      "image/png": "[encoded data removed]",
      "text/plain": [
       "<matplotlib.figure.Figure at 0x7f045b40b278>"
      ]
     },
     "metadata": {},
     "output_type": "display_data"
    }
   ],
   "source": [
    "def in_blocked_area(blocked, point):\n",
    "    \"\"\" Check if a point falls within a blocked region \"\"\"\n",
    "    x,y = point\n",
    "    ULeft_x, ULeft_y = blocked[0]\n",
    "    LRight_x, LRight_y = blocked[1]\n",
    "    \n",
    "    if (ULeft_x<=x<=LRight_x) and (ULeft_y>=y>=LRight_y):\n",
    "        return True\n",
    "    else:\n",
    "        return False\n",
    "    \n",
    "def valid_point(blocked_areas ,point):\n",
    "    \"\"\" A point is valid if it does not wihin a list of blocked regions \"\"\"\n",
    "    for area in blocked_areas:\n",
    "        if in_blocked_area(area, point):\n",
    "            return False\n",
    "\n",
    "    return True\n",
    "\n",
    "blocked_areas = []\n",
    "blocked_areas.append(blocked)\n",
    "for landmark in landmarks:\n",
    "        blocked_areas.append(landmark[\"blocked\"])\n",
    "        \n",
    "# Graph for shortest distance computation\n",
    "graph = Graph()\n",
    "edges = []\n",
    "\n",
    "plt.figure(figsize=(6,10))    \n",
    "plt.plot(points[:, 0], points[:, 1], 'o')\n",
    "plt.plot(vor.vertices[:, 0], vor.vertices[:, 1], '*')\n",
    "plt.xlim(-2, 4); plt.ylim(-2, 8)\n",
    "\n",
    "i = 0\n",
    "for simplex in vor.ridge_vertices:\n",
    "    simplex = np.asarray(simplex)\n",
    "    x = vor.vertices[simplex, 0]  \n",
    "    y = vor.vertices[simplex, 1]\n",
    "    start = vor.vertices[simplex[0]] \n",
    "    end = vor.vertices[simplex[1]]\n",
    "    \n",
    "    if np.all(simplex >= 0) and (valid_point(blocked_areas,start) and valid_point(blocked_areas,end)):\n",
    "        \n",
    "        dist = np.linalg.norm(start-end)\n",
    "        edges.append((str(simplex[0]),str(simplex[1]),dist))\n",
    "        print(str(simplex[0]),str(simplex[1]), start, end, dist)\n",
    "        plt.plot(x,y,'k-', color=\"black\")\n",
    "\n",
    "    # print(simplex)\n",
    "    # print (\"start {}, end{}\".format(start,end))\n",
    "    # print (\"{},{}\".format(in_blocked_area(blocked, start),in_blocked_area(blocked, end)))\n",
    "        \n",
    "    i += 1\n"
   ]
  },
  {
   "cell_type": "code",
   "execution_count": 317,
   "metadata": {},
   "outputs": [
    {
     "data": {
      "text/plain": [
       "[('3', '4', 0.4032781186690274),\n",
       " ('7', '16', 0.10928278398543254),\n",
       " ('16', '17', 0.4357611735325622),\n",
       " ('17', '18', 0.12576923802968634),\n",
       " ('3', '8', 0.7999384402292186),\n",
       " ('4', '7', 0.10123886348248064),\n",
       " ('20', '23', 0.25194555463432966),\n",
       " ('20', '22', 0.547427617662296),\n",
       " ('21', '22', 0.16923478133517178),\n",
       " ('23', '24', 0.15625),\n",
       " ('10', '11', 0.054715876676645035),\n",
       " ('11', '22', 0.5265258363132839),\n",
       " ('1', '21', 1.816805231718579),\n",
       " ('13', '14', 0.7609618796320131),\n",
       " ('14', '24', 0.46875),\n",
       " ('0', '13', 0.5386159024072751),\n",
       " ('16', '26', 0.21631736526946105),\n",
       " ('8', '9', 0.5228420199044619),\n",
       " ('9', '30', 1.605320967906418),\n",
       " ('31', '32', 0.11363222456601439),\n",
       " ('32', '33', 0.08206623888570773),\n",
       " ('33', '35', 0.4273571595969724),\n",
       " ('35', '36', 0.18811956344387337),\n",
       " ('18', '36', 0.12576923802968634),\n",
       " ('30', '35', 0.20975045769007633),\n",
       " ('9', '37', 1.0258738957591227),\n",
       " ('40', '41', 0.13176156917368245),\n",
       " ('41', '42', 0.13176156917368245),\n",
       " ('14', '40', 0.15625),\n",
       " ('26', '42', 0.32499999999999996),\n",
       " ('10', '31', 0.25344843876242584),\n",
       " ('32', '47', 0.181424240328695),\n",
       " ('46', '47', 0.29965382175833466),\n",
       " ('48', '49', 1.4233617873814708),\n",
       " ('49', '50', 4.784658040150582),\n",
       " ('50', '51', 3.161182260351889),\n",
       " ('46', '48', 0.31320919526731655),\n",
       " ('37', '51', 0.5988977040677022)]"
      ]
     },
     "execution_count": 317,
     "metadata": {},
     "output_type": "execute_result"
    }
   ],
   "source": [
    "edges "
   ]
  },
  {
   "cell_type": "markdown",
   "metadata": {},
   "source": [
    "## Shortest Path Search"
   ]
  },
  {
   "cell_type": "code",
   "execution_count": 318,
   "metadata": {},
   "outputs": [
    {
     "data": {
      "text/plain": [
       "[<matplotlib.lines.Line2D at 0x7f045a4ab860>]"
      ]
     },
     "execution_count": 318,
     "metadata": {},
     "output_type": "execute_result"
    },
    {
     "data": {
      "image/png": "[encoded data removed]",
      "text/plain": [
       "<matplotlib.figure.Figure at 0x7f045aab4438>"
      ]
     },
     "metadata": {},
     "output_type": "display_data"
    }
   ],
   "source": [
    "for edge in edges:\n",
    "    graph.add_edge(*edge)\n",
    "    \n",
    "shortest = dijsktra(graph, '1', '18')\n",
    "\n",
    "plt.figure(figsize=(6,10))    \n",
    "plt.plot(points[:, 0], points[:, 1], 'o')\n",
    "plt.plot(vor.vertices[:, 0], vor.vertices[:, 1], '*')\n",
    "plt.xlim(-2, 4); plt.ylim(-2, 8)\n",
    "\n",
    "x = []\n",
    "y = []\n",
    "\n",
    "for pt in shortest:\n",
    "    idx = int(pt)\n",
    "    x.append(vor.vertices[idx, 0])  \n",
    "    y.append(vor.vertices[idx, 1])\n",
    "    # print (pt,x,y)\n",
    "    \n",
    "plt.plot(x,y,'k-', color=\"black\")"
   ]
  },
  {
   "cell_type": "code",
   "execution_count": 319,
   "metadata": {},
   "outputs": [
    {
     "data": {
      "text/plain": [
       "['1', '21', '22', '11', '10', '31', '32', '33', '35', '36', '18']"
      ]
     },
     "execution_count": 319,
     "metadata": {},
     "output_type": "execute_result"
    }
   ],
   "source": [
    "shortest"
   ]
  },
  {
   "cell_type": "markdown",
   "metadata": {},
   "source": [
    "## Implement Pursuit"
   ]
  },
  {
   "cell_type": "code",
   "execution_count": 325,
   "metadata": {},
   "outputs": [],
   "source": [
    "robot_params = {\n",
    "    # pose\n",
    "    \"start_x\": 1.0,\n",
    "    \"start_y\": 0.3,\n",
    "    \"start_theta\": 0,\n",
    "    # physical dimensions\n",
    "    \"wheel_radius\": 0.0325,\n",
    "    \"axle_length\": 0.12,\n",
    "    \"camera_offset\": 0.06, # camera is +6cm from center of wheel axle\n",
    "    \"focal_length\": 0.00315, # camera focal lenght in meter\n",
    "    # stepwise motor control\n",
    "    \"motor_on_time\": 0.1,  \n",
    "    \"motor_off_time\": 0.2,\n",
    "    # wheel velocity control\n",
    "    \"min_ang_velocity\": 6.5, # Equivalent to motor speed setting of 0.3\n",
    "}"
   ]
  },
  {
   "cell_type": "code",
   "execution_count": 326,
   "metadata": {},
   "outputs": [
    {
     "name": "stdout",
     "output_type": "stream",
     "text": [
      "1 21\n",
      "21 22\n",
      "22 11\n",
      "11 10\n",
      "10 31\n",
      "31 32\n",
      "32 33\n",
      "33 35\n",
      "35 36\n",
      "36 18\n"
     ]
    }
   ],
   "source": [
    "def distance(pt1, pt2):\n",
    "    \"\"\" Distance between 2 points \"\"\"\n",
    "    pt1 = np.array(pt1)\n",
    "    pt2 = np.array(pt2)\n",
    "    return np.linalg.norm(pt1-pt2)\n",
    "    \n",
    "def generate_points(start, end, interval, debug=False):\n",
    "    \"\"\" Generate a sequence of equally distance points for a path \"\"\"\n",
    "    start_x, start_y = start\n",
    "    end_x, end_y = end\n",
    "    theta = math.atan2((end_y-start_y),(end_x-start_x))\n",
    "       \n",
    "    if debug:\n",
    "        print(\"From {} to {}\".format(np.around(np.array(start),3), np.around(np.array(end),3)))\n",
    "        print(\"theta: {:.1f}\".format(theta))\n",
    "    \n",
    "    points = []\n",
    "    current_pt = start\n",
    "    next_pt = start\n",
    "    \n",
    "    # Generate a sequence of points from start to end\n",
    "    while distance(start,next_pt) < distance(start,end):\n",
    "        points.append(current_pt)\n",
    "        next_pt = (current_pt[0] + interval*math.cos(theta), current_pt[1]+interval*math.sin(theta))\n",
    "        points.append(next_pt)\n",
    "        current_pt = next_pt\n",
    "        \n",
    "    return points\n",
    "\n",
    "def plan_path(path, vor, interval, debug=False):\n",
    "    \"\"\" Convert path into points for robot to follow \"\"\"\n",
    "    \n",
    "    points = []\n",
    "    # for each path segment\n",
    "    for i in range(len(path)-1):\n",
    "        # generate points for the segment\n",
    "        start = [vor.vertices[int(path[i]), 0],vor.vertices[int(path[i]), 1]]\n",
    "        end = [vor.vertices[int(path[i+1]), 0],vor.vertices[int(path[i+1]), 1]]\n",
    "        if debug:\n",
    "            print(path[i], path[i+1])\n",
    "        points.extend(generate_points(start,end,interval)) \n",
    "        \n",
    "    return points\n",
    "\n",
    "def next_target(planned_path, robot_pose):\n",
    "    \"\"\" Generate target on the planned path for robot to pursue \"\"\"\n",
    "    x = 0\n",
    "    y = 0\n",
    "    return x,y\n",
    "    \n",
    "# start = [2.2, -1.7249999999999999]\n",
    "# end = [1.3875, -0.10000000000000003]\n",
    "# print(distance(start,end))\n",
    "# points = generate_points(start,end, 0.02, debug=True)\n",
    "\n",
    "\n",
    "path = plan_path(shortest, vor, 0.05, debug=True)"
   ]
  },
  {
   "cell_type": "code",
   "execution_count": 327,
   "metadata": {},
   "outputs": [
    {
     "data": {
      "image/png": "[encoded data removed]",
      "text/plain": [
       "<matplotlib.figure.Figure at 0x7f045aa654e0>"
      ]
     },
     "metadata": {},
     "output_type": "display_data"
    }
   ],
   "source": [
    "plt.figure(figsize=(10,10))    \n",
    "plt.plot(points[:, 0], points[:, 1], 'o')\n",
    "plt.plot(vor.vertices[:, 0], vor.vertices[:, 1], '*')\n",
    "plt.xlim(-2, 4); plt.ylim(-2, 4)\n",
    "\n",
    "path = np.array(path)\n",
    "\n",
    "plt.plot(path[:,0],path[:,1], 'x')\n",
    "\n",
    "robot_x_actual = robot_params[\"start_x\"]\n",
    "robot_y_actual = robot_params[\"start_y\"]\n",
    "robot_theta_actual = robot_params[\"start_theta\"]*180/math.pi - 90 # Adjust orientation to match matplotlib    \n",
    "    \n",
    "# robot = line + triangle\n",
    "plt.plot(robot_x_actual, robot_y_actual, marker=(2, 0, robot_theta_actual), \\\n",
    "             c='r',markersize=15, linestyle='None')\n",
    "plt.plot(robot_x_actual, robot_y_actual, marker=(3, 0, robot_theta_actual), \\\n",
    "             c='r',markersize=10, linestyle='None')\n",
    "\n",
    "plt.show()\n",
    "plt.close()"
   ]
  },
  {
   "cell_type": "code",
   "execution_count": null,
   "metadata": {},
   "outputs": [],
   "source": []
  }
 ],
 "metadata": {
  "kernelspec": {
   "display_name": "Python [default]",
   "language": "python",
   "name": "python3"
  },
  "language_info": {
   "codemirror_mode": {
    "name": "ipython",
    "version": 3
   },
   "file_extension": ".py",
   "mimetype": "text/x-python",
   "name": "python",
   "nbconvert_exporter": "python",
   "pygments_lexer": "ipython3",
   "version": "3.6.4"
  }
 },
 "nbformat": 4,
 "nbformat_minor": 2
}
